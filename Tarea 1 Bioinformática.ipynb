{
 "cells": [
  {
   "cell_type": "code",
   "execution_count": 76,
   "id": "ec4552e8",
   "metadata": {},
   "outputs": [
    {
     "data": {
      "text/plain": [
       "199"
      ]
     },
     "execution_count": 76,
     "metadata": {},
     "output_type": "execute_result"
    }
   ],
   "source": [
    "import random\n",
    "import numpy as np\n",
    "\n",
    "# random.seed(20)\n",
    "\n",
    "bases = ['A', 'C', 'G', 'T', 'B', 'D']\n",
    "mutations = ['insert', 'delete', 'replace']\n",
    "\n",
    "def generateRandomSequence(bases, n = 200):\n",
    "    sequence = []\n",
    "    for i in range(n):\n",
    "        b = random.choice(bases)\n",
    "        sequence.append(b)\n",
    "        \n",
    "    return sequence\n",
    "\n",
    "def randomMutation(sequence, bases, mutations):\n",
    "    # Choose random mutation\n",
    "    m = random.choice(mutations)\n",
    "    position = random.randint(0, len(sequence))\n",
    "    if m == 'insert':\n",
    "        print(f'insert, position: {position}')\n",
    "        b = random.choice(bases)\n",
    "        aux_sequence = []\n",
    "        j = 0\n",
    "        for i in range(len(sequence) + 1):\n",
    "            if i == position:\n",
    "                aux_sequence.append(b)\n",
    "            else:\n",
    "                aux_sequence.append(sequence[j])\n",
    "                j += 1\n",
    "        sequence = aux_sequence\n",
    "            \n",
    "    elif m == 'delete':\n",
    "        print(f'delete, position: {position}')\n",
    "        del sequence[position]\n",
    "        \n",
    "    elif m == 'replace':\n",
    "        print(f'replace, positon: {position}')\n",
    "        eq_flag = True\n",
    "        b = ''\n",
    "        while eq_flag:\n",
    "            b = random.choice(bases)\n",
    "            if b != sequence[position]:\n",
    "                eq_flag = False\n",
    "        \n",
    "        sequence[position] = b\n",
    "            \n",
    "    return sequence\n",
    "    \n",
    "'''\n",
    "The distance reflects the total number of single-character \n",
    "edits required to transform one word into another.\n",
    "'''    \n",
    "def levenshteinDistance(a, b):\n",
    "    distances = np.zeros((len(a) + 1, len(b) + 1))\n",
    "    \n",
    "    for i in range(len(a) + 1):\n",
    "        distances[i][0] = i\n",
    "    \n",
    "    for j in range(len(b) + 1):\n",
    "        distances[0][j] = j\n",
    "        \n",
    "    \n",
    "    \n",
    "s1 = generateRandomSequence(bases)\n",
    "s2 = generateRandomSequence(bases)\n",
    "# levenshteinDistance(s1, s2)\n",
    "s1[1:]\n",
    "# s_prim = randomMutation(s, bases, mutations)\n"
   ]
  }
 ],
 "metadata": {
  "kernelspec": {
   "display_name": "Python 3 (ipykernel)",
   "language": "python",
   "name": "python3"
  },
  "language_info": {
   "codemirror_mode": {
    "name": "ipython",
    "version": 3
   },
   "file_extension": ".py",
   "mimetype": "text/x-python",
   "name": "python",
   "nbconvert_exporter": "python",
   "pygments_lexer": "ipython3",
   "version": "3.10.0"
  }
 },
 "nbformat": 4,
 "nbformat_minor": 5
}
