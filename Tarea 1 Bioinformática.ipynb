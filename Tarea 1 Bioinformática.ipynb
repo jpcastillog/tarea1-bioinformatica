{
 "cells": [
  {
   "cell_type": "markdown",
   "id": "c45d3d3e",
   "metadata": {},
   "source": [
    "\n",
    "<img src=\"http://www.exalumnos.usm.cl/wp-content/uploads/2015/06/ISOTIPO-Color.jpg\" title=\"Title text\" width=\"20%\" />\n",
    "\n",
    "<hr style=\"height:2px;border:none\"/>\n",
    "<h1 align='center'> Introducción a la Bioinformática </h1>\n",
    "\n",
    "<H2 align='center'> Tarea 1 </H2>\n",
    "<H4 align='center'> Integrantes: </H4>\n",
    "<br>\n",
    "\n",
    "<div style=\"text-align:center;\">\n",
    "    <ul style=\"display:inline-block;\">    \n",
    "       <li>Giorgio Pellizari     rol: </li>\n",
    "       <li>Juan Pablo Castillo rol: 201573534-4</li>\n",
    "    </ul>\n",
    "</div>\n",
    "<hr style=\"height:2px;border:none\"/>\n",
    "<!-- \\begin{center}\n",
    "    \\begin{itemize}\n",
    "        \\item Juan Pablo Castillo\n",
    "        \\item Giorgio Pellizzari\n",
    "    \\end{itemize}\n",
    "\\end{center} -->"
   ]
  },
  {
   "cell_type": "markdown",
   "id": "69da4583",
   "metadata": {},
   "source": [
    "## Pregunta 1"
   ]
  },
  {
   "cell_type": "markdown",
   "id": "967e4e3e",
   "metadata": {},
   "source": [
    "> Consulta: **GIQRGIQCASTILLQPELL**\n",
    "<img src=\"img/query.PNG\" title=\"Title text\" width=\"80%\" />\n",
    "\n",
    "<!-- \\begin{figure}\n",
    "    \\centering\n",
    "    \\includegraphics[width=0.8\\textwidth]{img/query.PNG}\n",
    "\\end{figure} -->\n",
    " \n",
    ">Parametros:\n",
    "<img src=\"img/algorithm_parameters.PNG\" title=\"Title text\" width=\"80%\" />\n",
    "\n",
    "<!-- \\begin{figure}\n",
    "    \\centering\n",
    "    \\includegraphics[width=0.8\\textwidth]{img/algoruthm_parameters.PNG}\n",
    "\\end{figure} -->\n",
    "\n",
    "\n",
    "> Resultado: **site-specific DNA-methyltransferase**\n",
    "<img src=\"img/resultado_query.PNG\" title=\"Title text\" width=\"80%\" />\n",
    "\n",
    "<!-- \\begin{figure}\n",
    "    \\centering\n",
    "    \\includegraphics[width=0.8\\textwidth]{img/resultado_query.PNG}\n",
    "\\end{figure} -->\n",
    "\n",
    "\n",
    "> Mejor resultado:\n",
    "<img src=\"img/mejor_resultado.PNG\" title=\"Title text\" width=\"80%\" />\n",
    "\n",
    "<!-- \\begin{figure}\n",
    "    \\centering\n",
    "    \\includegraphics[width=0.8\\textwidth]{img/mejor_resultado.PNG}\n",
    "\\end{figure} -->\n"
   ]
  },
  {
   "cell_type": "markdown",
   "id": "62ee449f",
   "metadata": {},
   "source": [
    "> Muestre dos dotplots entre su query (en la forma que se usó en la búsqueda) y un segmento\n",
    "de la proteína encontrada, que incluya el match pero sea más largo que el query (digamos, 3\n",
    "veces la longitud). El primer dotplot hágalo para las identidades (dotplot simple), y el\n",
    "segundo hágalo indicando dos identidades en ventana de largo 3."
   ]
  },
  {
   "cell_type": "code",
   "execution_count": 6,
   "id": "89aa9f2f",
   "metadata": {},
   "outputs": [
    {
     "name": "stdout",
     "output_type": "stream",
     "text": [
      " |CKTLNRQFISSEIDEKYYNMILDRLNNGKIDEKYRLNINNREIQRGISTILRQPDLLK\n",
      "------------------------------------------------------------\n",
      "G|                           ■                 ■            \n",
      "I|        ■   ■       ■        ■       ■    ■   ■  ■        \n",
      "Q|      ■                                    ■        ■     \n",
      "R|     ■                 ■          ■     ■   ■      ■      \n",
      "G|                           ■                 ■            \n",
      "I|        ■   ■       ■        ■       ■    ■   ■  ■        \n",
      "Q|      ■                                    ■        ■     \n",
      "C|■                                                         \n",
      "A|                                                          \n",
      "S|         ■■                                    ■          \n",
      "T|  ■                                             ■         \n",
      "I|        ■   ■       ■        ■       ■    ■   ■  ■        \n",
      "L|   ■                 ■  ■          ■              ■    ■■ \n",
      "L|   ■                 ■  ■          ■              ■    ■■ \n",
      "Q|      ■                                    ■        ■     \n",
      "P|                                                     ■    \n",
      "E|           ■  ■                ■         ■                \n",
      "L|   ■                 ■  ■          ■              ■    ■■ \n",
      "L|   ■                 ■  ■          ■              ■    ■■ \n"
     ]
    }
   ],
   "source": [
    "def delta(x,y):\n",
    "    return 0 if x == y else 1\n",
    "\n",
    "def M(seq1,seq2,i,j,k):\n",
    "    return sum(delta(x,y) for x,y in zip(seq1[i:i+k],seq2[j:j+k]))\n",
    "\n",
    "def makeMatrix(seq1,seq2,k):\n",
    "    n = len(seq1)\n",
    "    m = len(seq2)\n",
    "    return [[M(seq1,seq2,i,j,k) for j in range(m-k+1)] for i in range(n-k+1)]\n",
    "\n",
    "def plotMatrix(M,t, seq1, seq2, nonblank = chr(0x25A0), blank = ' '):\n",
    "    print(' |' + seq2)\n",
    "    print('-'*(2 + len(seq2)))\n",
    "    for label,row in zip(seq1,M):\n",
    "        line = ''.join(nonblank if s < t else blank for s in row)\n",
    "        print(label + '|' + line)\n",
    "\n",
    "def dotplot(seq1,seq2,k = 1,t = 1):\n",
    "    M = makeMatrix(seq1,seq2,k)\n",
    "    plotMatrix(M, t, seq1,seq2) #experiment with character choice\n",
    "    \n",
    "Query = 'GIQRGIQCASTILLQPELL'\n",
    "Rsequence = 'CKTLNRQFISSEIDEKYYNMILDRLNNGKIDEKYRLNINNREIQRGISTILRQPDLLK'\n",
    "\n",
    "dotplot(Query, Rsequence)\n"
   ]
  },
  {
   "cell_type": "markdown",
   "id": "a6ebbebe",
   "metadata": {},
   "source": [
    "> Muestre el alineamiento que dio BLAST entre su nombre y el segmento de la proteína. \n",
    "<img src=\"img/alineamiento.PNG\" title=\"Title text\" width=\"70%\" />"
   ]
  },
  {
   "cell_type": "markdown",
   "id": "785e3ffd",
   "metadata": {},
   "source": [
    "> ¿Qué función cumple la proteína? [Para la función: trate de averiguar; por ejemplo, si es una\n",
    "“pitufasa”, trate de investigar que significa “pitufar”, o qué es la “pitufosis”]. ¿Se sabe con\n",
    "certeza (base experimental), o es una conjetura? ¿Se conoce su estructura 3D? ¿Está\n",
    "etiquetada como miembro de alguna familia de proteínas?\n",
    "\n",
    "La proteína site-specific DNA methyltransferase ([N6_n4_Mtase](http://pfam.xfam.org/family/PF01555)), cumple la función de catalizar la transferencia de un grupo metilo al ADN. De la proteína se sabe con certeza que existe, y pertenece a la familia de proteinas DNA methylases. Su estructura 3D está dada por la siguiente figura:\n",
    "\n",
    "<img src=\"img/3d_structure.PNG\" title=\"Title text\" width=\"50%\" />"
   ]
  },
  {
   "cell_type": "markdown",
   "id": "f473d9bb",
   "metadata": {},
   "source": [
    "> El organismo en que la encontró: ¿qué es? (clasificación, descripción, imagen si es que\n",
    "existe [Use The Google!]). \n",
    "\n",
    "El organismo en que se encontro es Candidatus [Acidulodesulfobacterium ferriphilum](https://lpsn.dsmz.de/species/acidulodesulfobacterium-ferriphilum) el cual es una proteobacteria que es muy abundante en ambientes extremadamente ricos en hierro y azufre, de los cuales la fisiologia, biodiversidad y funciones ecologicas se sabe muy poco.\n",
    "\n",
    "> ¿Dónde y cómo está codificada la proteína? (Indique la ubicación de la CDS -\"coding sequence\"- de DNA que la codifica, y acaso está en la hebra primaria o secundaria, si es continua o tiene interrupciones, si está en cierto cromosoma, si es parte del genoma mitocondrial, etc.; incluya el código de acceso o URL de la secuencia de DNA).\n",
    "\n",
    "La proteína se encuentra codificada entre las posiciones $240.414$ y $241.244$ de la hebra primaria, y sin interrupciones en el [CDS](https://www.ncbi.nlm.nih.gov/nuccore/1573781952) del organismo."
   ]
  },
  {
   "cell_type": "markdown",
   "id": "6743c933",
   "metadata": {},
   "source": [
    "## Pregunta 2"
   ]
  },
  {
   "cell_type": "code",
   "execution_count": 2,
   "id": "7ea1a6ad",
   "metadata": {},
   "outputs": [],
   "source": [
    "import random\n",
    "import numpy as np\n",
    "import matplotlib.pyplot as plt\n",
    "%matplotlib inline\n",
    "\n",
    "# random.seed(20)\n",
    "\n",
    "bases = ['A', 'C', 'G', 'T', 'B', 'D']\n",
    "mutations = ['insert', 'delete', 'replace']"
   ]
  },
  {
   "cell_type": "code",
   "execution_count": 3,
   "id": "ec4552e8",
   "metadata": {},
   "outputs": [
    {
     "data": {
      "text/plain": [
       "0.355"
      ]
     },
     "execution_count": 3,
     "metadata": {},
     "output_type": "execute_result"
    }
   ],
   "source": [
    "\n",
    "def generateRandomSequence(bases, n = 200):\n",
    "    sequence = []\n",
    "    for i in range(n):\n",
    "        b = random.choice(bases)\n",
    "        sequence.append(b)\n",
    "        \n",
    "    return sequence\n",
    "\n",
    "def randomMutation(sequence, bases, mutations):\n",
    "    # Choose random mutation\n",
    "    m = random.choice(mutations)\n",
    "    position = random.randint(0, len(sequence)-1)\n",
    "    aux_sequence = sequence.copy()\n",
    "    if m == 'insert':\n",
    "        b = random.choice(bases)\n",
    "        aux_sequence = []\n",
    "        j = 0\n",
    "        for i in range(len(sequence) + 1):\n",
    "            if i == position:\n",
    "                aux_sequence.append(b)\n",
    "            else:\n",
    "                aux_sequence.append(sequence[j])\n",
    "                j += 1\n",
    "            \n",
    "    elif m == 'delete':\n",
    "        del aux_sequence[position]\n",
    "        \n",
    "    elif m == 'replace':\n",
    "        eq_flag = True\n",
    "        b = ''\n",
    "        while eq_flag:\n",
    "            b = random.choice(bases)\n",
    "            if b != aux_sequence[position]:\n",
    "                eq_flag = False\n",
    "        \n",
    "        aux_sequence[position] = b\n",
    "            \n",
    "    return aux_sequence\n",
    "    \n",
    "'''\n",
    "The distance reflects the total number of single-character \n",
    "edits required to transform one word into another.\n",
    "'''    \n",
    "def levenshteinDistance(sequence_a, sequence_b):\n",
    "    distances = np.zeros((len(sequence_a) + 1, len(sequence_b) + 1))\n",
    "    \n",
    "    for i in range(len(sequence_a) + 1):\n",
    "        distances[i][0] = i\n",
    "    \n",
    "    for j in range(len(sequence_b) + 1):\n",
    "        distances[0][j] = j\n",
    "    \n",
    "    a = 0\n",
    "    b = 0\n",
    "    c = 0\n",
    "    \n",
    "    for i in range(1, len(sequence_a) + 1):\n",
    "        for j in range(1, len(sequence_b) + 1):\n",
    "            if (sequence_a[i-1] == sequence_b[j-1]):\n",
    "                distances[i][j] = distances[i - 1][j - 1]\n",
    "            else:\n",
    "                a = distances[i][j - 1]\n",
    "                b = distances[i - 1][j]\n",
    "                c = distances[i - 1][j - 1]\n",
    "                \n",
    "                if (a <= b and a <= c):\n",
    "                    distances[i][j] = a + 1\n",
    "                elif (b <= a and b <= c):\n",
    "                    distances[i][j] = b + 1\n",
    "                else:\n",
    "                    distances[i][j] = c + 1\n",
    "\n",
    "    return distances[len(sequence_a)][len(sequence_b)]\n",
    "    \n",
    "    \n",
    "s1 = generateRandomSequence(bases)\n",
    "s2 = generateRandomSequence(bases)\n",
    "d = levenshteinDistance(s1, s2)\n",
    "1 - d/len(s1)\n",
    "# s_prim = randomMutation(s, bases, mutations)\n"
   ]
  },
  {
   "cell_type": "markdown",
   "id": "b68055a5",
   "metadata": {},
   "source": [
    ">a) Generar una secuencia, y aplicar $M$ mutaciones; para $M$ entre 0 y 300, grafique la relación entre $M$ y $D$, donde $D$ es la distancia de Levenshtein entre la secuencia final y la secuencia inicial."
   ]
  },
  {
   "cell_type": "code",
   "execution_count": 4,
   "id": "ad427cf5",
   "metadata": {
    "scrolled": true
   },
   "outputs": [
    {
     "data": {
      "image/png": "[encoded data removed]",
      "text/plain": [
       "<Figure size 432x288 with 1 Axes>"
      ]
     },
     "metadata": {
      "needs_background": "light"
     },
     "output_type": "display_data"
    }
   ],
   "source": [
    "M = 300\n",
    "D = []\n",
    "sequence_i = generateRandomSequence(bases)\n",
    "sequence_f = sequence_i.copy()\n",
    "d = levenshteinDistance(sequence_i, sequence_f)\n",
    "D.append(d)\n",
    "for m in range(1, M+1):\n",
    "    sequence_f = randomMutation(sequence_f, bases, mutations)\n",
    "    d = levenshteinDistance(sequence_i, sequence_f)\n",
    "    D.append(d)\n",
    "    \n",
    "plt.plot(range(M+1), D)\n",
    "plt.title('# Mutaciones vs Distancia')\n",
    "plt.xlabel('# Mutaciones')\n",
    "plt.ylabel('Distancia Levenshtein')\n",
    "plt.show()"
   ]
  },
  {
   "cell_type": "markdown",
   "id": "7180e348",
   "metadata": {},
   "source": [
    ">b) Genere una secuencia, clónela, y a cada copia aplíquele $M$ mutaciones (de modo que\n",
    "tendrá dos secuencias crecientemente distintas). Grafique la relación entre $M$ y $D’$, donde $D’$\n",
    "es la distancia entre las dos secuencias que están mutando."
   ]
  },
  {
   "cell_type": "code",
   "execution_count": 5,
   "id": "499f50cf",
   "metadata": {},
   "outputs": [
    {
     "data": {
      "image/png": "[encoded data removed]",
      "text/plain": [
       "<Figure size 432x288 with 1 Axes>"
      ]
     },
     "metadata": {
      "needs_background": "light"
     },
     "output_type": "display_data"
    }
   ],
   "source": [
    "Dp = []\n",
    "# Generate sequences\n",
    "sequence_1 = generateRandomSequence(bases)\n",
    "sequence_2 = sequence_1.copy()\n",
    "d = levenshteinDistance(sequence_1, sequence_2)\n",
    "Dp.append(d)\n",
    "for m in range(1, M+1):\n",
    "    sequence_1 = randomMutation(sequence_1, bases, mutations)\n",
    "    sequence_2 = randomMutation(sequence_2, bases, mutations)\n",
    "    d = levenshteinDistance(sequence_1, sequence_2)\n",
    "    Dp.append(d)\n",
    "    \n",
    "plt.plot(range(M+1), Dp)\n",
    "plt.title('# Mutaciones vs Distancia')\n",
    "plt.xlabel('# Mutaciones')\n",
    "plt.ylabel('Distancia Levenshtein')\n",
    "plt.show()"
   ]
  },
  {
   "cell_type": "markdown",
   "id": "2fec95bd",
   "metadata": {},
   "source": [
    ">c) Genere $10.000$ pares de secuencias (largo $200$ c/u) y evalúe su distancia de Levenshtein;\n",
    "haga un histograma de la distribución de estos valores, y calcule la media y $\\sigma$."
   ]
  },
  {
   "cell_type": "code",
   "execution_count": 28,
   "id": "fbe8cf67",
   "metadata": {},
   "outputs": [],
   "source": [
    "# Generate 10.000 sequences with 200 bases\n",
    "sequences1 = [generateRandomSequence(bases) for i in range(10000)]\n",
    "sequences2 = [generateRandomSequence(bases) for i in range(10000)]\n",
    "distances = []\n",
    "for i in range(10000):\n",
    "    s1 = sequences1[i]\n",
    "    s2 = sequences2[i]\n",
    "    d = levenshteinDistance(s1, s2)\n",
    "    distances.append(d)"
   ]
  },
  {
   "cell_type": "code",
   "execution_count": 29,
   "id": "2e2bbe35",
   "metadata": {},
   "outputs": [
    {
     "data": {
      "image/png": "[encoded data removed]",
      "text/plain": [
       "<Figure size 432x288 with 1 Axes>"
      ]
     },
     "metadata": {
      "needs_background": "light"
     },
     "output_type": "display_data"
    },
    {
     "name": "stdout",
     "output_type": "stream",
     "text": [
      "Media:  130.5429\n",
      "sigma:  3.364950501744107\n"
     ]
    }
   ],
   "source": [
    "import statistics\n",
    "\n",
    "avg = sum(distances)/len(distances)\n",
    "std = statistics.stdev(distances)\n",
    "\n",
    "plt.hist(distances)\n",
    "plt.title('Histograma de Distancias')\n",
    "plt.xlabel('Distancia Levenshtein')\n",
    "plt.ylabel('f')\n",
    "plt.axvline(avg, color='g', linestyle='dashed', linewidth=2)\n",
    "plt.axvline(avg-std, color='r', linestyle='dashed', linewidth=2)\n",
    "plt.axvline(avg+std, color='r', linestyle='dashed', linewidth=2)\n",
    "plt.show()\n",
    "print('Media: ', avg)\n",
    "print('sigma: ', std)"
   ]
  },
  {
   "cell_type": "markdown",
   "id": "77855fdc",
   "metadata": {},
   "source": [
    ">d) Considerando (b) y (c), ¿por sobre qué valor de $M$ diría usted que el parentesco entre las\n",
    "secuencias es indetectable (es decir, se entra en la twilight zone)? Tome en cuenta que cuando\n",
    "la distancia ya está dentro de la twilight zone, hace rato que la capacidad de juzgar\n",
    "parentesco ya se perdió."
   ]
  }
 ],
 "metadata": {
  "kernelspec": {
   "display_name": "Python 3 (ipykernel)",
   "language": "python",
   "name": "python3"
  },
  "language_info": {
   "codemirror_mode": {
    "name": "ipython",
    "version": 3
   },
   "file_extension": ".py",
   "mimetype": "text/x-python",
   "name": "python",
   "nbconvert_exporter": "python",
   "pygments_lexer": "ipython3",
   "version": "3.10.0"
  }
 },
 "nbformat": 4,
 "nbformat_minor": 5
}
