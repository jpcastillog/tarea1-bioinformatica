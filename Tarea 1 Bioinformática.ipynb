{
 "cells": [
  {
   "cell_type": "markdown",
   "id": "c45d3d3e",
   "metadata": {},
   "source": [
    "<img src=\"http://www.exalumnos.usm.cl/wp-content/uploads/2015/06/ISOTIPO-Color.jpg\" title=\"Title text\" width=\"20%\" />\n",
    "\n",
    "<hr style=\"height:2px;border:none\"/>\n",
    "<h1 align='center'> Introducción a la Bioinformática </h1>\n",
    "\n",
    "<H2 align='center'> Tarea 1 </H2>\n",
    "<H4 align='center'> Integrantes: </H4>\n",
    "<br>\n",
    "<div style=\"text-align:center;\">\n",
    "    <ul style=\"display:inline-block;\">    \n",
    "       <li>Giorgio Pellizari   rol: 201473599-5</li>\n",
    "       <li>Juan Pablo Castillo rol: 201573534-4</li>\n",
    "    </ul>\n",
    "</div>\n",
    "<hr style=\"height:2px;border:none\"/>\n",
    "<!-- \\begin{center}\n",
    "    \\begin{itemize}\n",
    "        \\item Juan Pablo Castillo rol: 201473599-5\n",
    "        \\item  Giorgio Pellizzari rol: 201573534-4\n",
    "    \\end{itemize}\n",
    "\\end{center} -->"
   ]
  },
  {
   "cell_type": "markdown",
   "id": "69da4583",
   "metadata": {},
   "source": [
    "## Pregunta 1"
   ]
  },
  {
   "cell_type": "markdown",
   "id": "967e4e3e",
   "metadata": {},
   "source": [
    "> Consulta: **GIQRGIQCASTILLQPELL**\n",
    "<img src=\"img/query.PNG\" title=\"Title text\" width=\"80%\" />\n",
    "\n",
    "<!-- \\begin{figure}\n",
    "    \\centering\n",
    "    \\includegraphics[width=0.8\\textwidth]{img/query.PNG}\n",
    "\\end{figure}\n",
    "  -->\n",
    ">Parámetros:\n",
    "<img src=\"img/algorithm_parameters.PNG\" title=\"Title text\" width=\"80%\" />\n",
    "\n",
    "<!-- \\begin{figure}\n",
    "    \\centering\n",
    "    \\includegraphics[width=0.8\\textwidth]{img/algorithm_parameters.PNG}\n",
    "\\end{figure}\n",
    " -->\n",
    "\n",
    "> Resultado: **site-specific DNA-methyltransferase**\n",
    "<img src=\"img/resultado_query.PNG\" title=\"Title text\" width=\"80%\" />\n",
    "\n",
    "<!-- \\begin{figure}\n",
    "    \\centering\n",
    "    \\includegraphics[width=0.8\\textwidth]{img/resultado_query.PNG}\n",
    "\\end{figure}\n",
    " -->\n",
    "\n",
    "> Mejor resultado:\n",
    "<img src=\"img/mejor_resultado.PNG\" title=\"Title text\" width=\"80%\" />\n",
    "\n",
    "<!-- \\begin{figure}\n",
    "    \\centering\n",
    "    \\includegraphics[width=0.8\\textwidth]{img/mejor_resultado.PNG}\n",
    "\\end{figure}\n",
    " -->"
   ]
  },
  {
   "cell_type": "markdown",
   "id": "62ee449f",
   "metadata": {},
   "source": [
    "> Muestre dos dotplots entre su query (en la forma que se usó en la búsqueda) y un segmento\n",
    "de la proteína encontrada, que incluya el match pero sea más largo que el query (digamos, 3\n",
    "veces la longitud). El primer dotplot hágalo para las identidades (dotplot simple), y el\n",
    "segundo hágalo indicando dos identidades en ventana de largo 3."
   ]
  },
  {
   "cell_type": "code",
   "execution_count": 82,
   "id": "89aa9f2f",
   "metadata": {
    "scrolled": false
   },
   "outputs": [],
   "source": [
    "Query = 'GIQRGIQCASTILLQPELL'\n",
    "Rsequence = 'CKTLNRQFISSEIDEKYYNMILDRLNNGKIDEKYRLNINNREIQRGISTILRQPDLLK'\n",
    "\n",
    "def printDotPlot(seq1, seq2, w = 3, s = 3):\n",
    "    n = len(seq1)\n",
    "    m = len(seq2)\n",
    "    M = np.zeros((n, m))\n",
    "    \n",
    "    print(\" |\", end=\"\")\n",
    "    for word in seq2:\n",
    "        print(word, end='')\n",
    "    print(\"\")\n",
    "    for _ in range(len(seq2) + 1):\n",
    "        print(\"-\", end=\"\")\n",
    "    print(\"\")\n",
    "    for i in range(n - w + 1):\n",
    "        print(seq1[i], end=\"\")\n",
    "        for j in range(m - w + 1):\n",
    "            count = 0\n",
    "            for wp in range(w):\n",
    "                if seq1[i+wp] == seq2[j+wp]:\n",
    "                    count += 1\n",
    "            if count >= s:\n",
    "                M[i, j] = 1\n",
    "                print(chr(0x25A0), end=\"\")\n",
    "            else:\n",
    "                print(\" \", end=\"\")\n",
    "        print(\"\")"
   ]
  },
  {
   "cell_type": "markdown",
   "id": "9e02a8bb",
   "metadata": {},
   "source": [
    "Dot plot identidad simple:"
   ]
  },
  {
   "cell_type": "code",
   "execution_count": 84,
   "id": "5c7fa28c",
   "metadata": {
    "scrolled": false
   },
   "outputs": [
    {
     "name": "stdout",
     "output_type": "stream",
     "text": [
      " |CKTLNRQFISSEIDEKYYNMILDRLNNGKIDEKYRLNINNREIQRGISTILRQPDLLK\n",
      "-----------------------------------------------------------\n",
      "G                           ■                 ■            \n",
      "I        ■   ■       ■        ■       ■    ■   ■  ■        \n",
      "Q      ■                                    ■        ■     \n",
      "R     ■                 ■          ■     ■   ■      ■      \n",
      "G                           ■                 ■            \n",
      "I        ■   ■       ■        ■       ■    ■   ■  ■        \n",
      "Q      ■                                    ■        ■     \n",
      "C■                                                         \n",
      "A                                                          \n",
      "S         ■■                                    ■          \n",
      "T  ■                                             ■         \n",
      "I        ■   ■       ■        ■       ■    ■   ■  ■        \n",
      "L   ■                 ■  ■          ■              ■    ■■ \n",
      "L   ■                 ■  ■          ■              ■    ■■ \n",
      "Q      ■                                    ■        ■     \n",
      "P                                                     ■    \n",
      "E           ■  ■                ■         ■                \n",
      "L   ■                 ■  ■          ■              ■    ■■ \n",
      "L   ■                 ■  ■          ■              ■    ■■ \n"
     ]
    }
   ],
   "source": [
    "printDotPlot(Query, Rsequence, w=1, s=1)"
   ]
  },
  {
   "cell_type": "markdown",
   "id": "e74c53f8",
   "metadata": {},
   "source": [
    "Dot plot con dos identidades y ventanad de largo 3:"
   ]
  },
  {
   "cell_type": "code",
   "execution_count": 85,
   "id": "ef6adfb9",
   "metadata": {},
   "outputs": [
    {
     "name": "stdout",
     "output_type": "stream",
     "text": [
      " |CKTLNRQFISSEIDEKYYNMILDRLNNGKIDEKYRLNINNREIQRGISTILRQPDLLK\n",
      "-----------------------------------------------------------\n",
      "G                                         ■   ■          \n",
      "I                                          ■      ■      \n",
      "Q                                           ■            \n",
      "R                                        ■   ■           \n",
      "G                                         ■   ■          \n",
      "I                                          ■             \n",
      "Q                                                        \n",
      "C                                                        \n",
      "A                                              ■         \n",
      "S          ■                                    ■        \n",
      "T                   ■                            ■       \n",
      "I                    ■                            ■    ■ \n",
      "L                                                  ■    ■\n",
      "L                                                   ■    \n",
      "Q                                                    ■   \n",
      "P                                                     ■  \n",
      "E                                                      ■ \n"
     ]
    }
   ],
   "source": [
    "printDotPlot(Query, Rsequence, w=3, s=2)"
   ]
  },
  {
   "cell_type": "markdown",
   "id": "a6ebbebe",
   "metadata": {},
   "source": [
    "> Muestre el alineamiento que dio BLAST entre su nombre y el segmento de la proteína. \n",
    "\n",
    "<img src=\"img/alineamiento.PNG\" title=\"Title text\" width=\"70%\" />\n",
    "\n",
    "<!-- \\begin{figure}\n",
    "    \\centering\n",
    "    \\includegraphics[width=0.8\\textwidth]{img/alineamiento.PNG}\n",
    "\\end{figure} -->"
   ]
  },
  {
   "cell_type": "markdown",
   "id": "785e3ffd",
   "metadata": {},
   "source": [
    "> ¿Qué función cumple la proteína? [Para la función: trate de averiguar; por ejemplo, si es una\n",
    "“pitufasa”, trate de investigar que significa “pitufar”, o qué es la “pitufosis”]. ¿Se sabe con\n",
    "certeza (base experimental), o es una conjetura? ¿Se conoce su estructura 3D? ¿Está\n",
    "etiquetada como miembro de alguna familia de proteínas?\n",
    "\n",
    "La proteína site-specific DNA methyltransferase ([N6_n4_Mtase](http://pfam.xfam.org/family/PF01555)), cumple la función de catalizar la transferencia de un grupo metilo al ADN. De la proteína se sabe con certeza que existe, y pertenece a la familia de proteinas DNA methylases. Su estructura 3D está dada por la siguiente figura:\n",
    "\n",
    "<img src=\"img/3d_structure.PNG\" title=\"Title text\" width=\"50%\" />\n",
    "\n",
    "<!-- \\begin{figure}\n",
    "    \\centering\n",
    "    \\includegraphics[width=0.8\\textwidth]{img/3d_structure.PNG}\n",
    "\\end{figure} -->"
   ]
  },
  {
   "cell_type": "markdown",
   "id": "f473d9bb",
   "metadata": {},
   "source": [
    "> El organismo en que la encontró: ¿qué es? (clasificación, descripción, imagen si es que\n",
    "existe [Use The Google!]). \n",
    "\n",
    "El organismo en que se encontro es Candidatus [Acidulodesulfobacterium ferriphilum](https://lpsn.dsmz.de/species/acidulodesulfobacterium-ferriphilum) el cual es una proteobacteria que es muy abundante en ambientes extremadamente ricos en hierro y azufre, de los cuales la fisiologia, biodiversidad y funciones ecologicas se sabe muy poco.\n",
    "\n",
    "> ¿Dónde y cómo está codificada la proteína? (Indique la ubicación de la CDS -\"coding sequence\"- de DNA que la codifica, y acaso está en la hebra primaria o secundaria, si es continua o tiene interrupciones, si está en cierto cromosoma, si es parte del genoma mitocondrial, etc.; incluya el código de acceso o URL de la secuencia de DNA).\n",
    "\n",
    "La proteína se encuentra codificada entre las posiciones $240.414$ y $241.244$ de la hebra primaria, y sin interrupciones en el [CDS](https://www.ncbi.nlm.nih.gov/nuccore/1573781952) del organismo.\n",
    "\n",
    "> ¿Qué origen tienen los datos? (¿Proyecto de secuenciamiento masivo? ¿Paper específico\n",
    "sobre el gen? ¿Estudio filogenético?)\n",
    "\n",
    "\n",
    "Los datos fueron publicados por College of Ecology and Evolution, Sun Yat-sen University el 31 de enero de 2019. Y estos no fueron publicados en ningún artículo científico. \n",
    "\n",
    "> Considerando ahora además los 5 matches siguientes en su búsqueda inicial (por lo tanto, 6 \n",
    "secuencias encontradas) que sean en especies distintas (de modo que si hay más de uno en la misma \n",
    "especie, se ignoran las \"repeticiones\"),\n",
    "   \n",
    "> - ¿En qué organismos están? ¿Son especies cercanas a las del primer match?\n",
    "\n",
    "Los 5 matches mas cercanos fueron los siguientes:\n",
    "\n",
    "- Hypothetical protein B0A48_18502, encontrada en [Rachicladosporium antarcticum](https://www.ncbi.nlm.nih.gov/Taxonomy/Browser/wwwtax.cgi?id=1507870) el cual es un organismo celular muy distinto a nuestro match inicial.\n",
    "\n",
    "- Flagellar hook basal-body protein, encontrada en [Planctomycetaceae bacterium](https://www.ncbi.nlm.nih.gov/Taxonomy/Browser/wwwtax.cgi?id=2026779) la cual es una bacteria que deriva de los Planctomycetes, no de los Protobacteria como nuestro match, siendo mas cercano que el match anterior.\n",
    "\n",
    "- Uracil-DNA glycosylase, encontrada en [Alphaproteobacteria bacterium](https://www.ncbi.nlm.nih.gov/Taxonomy/Browser/wwwtax.cgi?id=1913988) al igual que la DNA-methyltransferase es una Protobacteria que luego deriva en la familia Alphaproteobacteria, mientras que la DNA-methyltransferase deriva en las Deltaproteobacteria.\n",
    "\n",
    "- Putative baseplate assembly protein, encontrada en [Nitrosospira sp. Nl5](https://www.ncbi.nlm.nih.gov/Taxonomy/Browser/wwwtax.cgi?id=200120) es una Protobacteria que luego deriva en la familia de las Betaproteobacterias.\n",
    "\n",
    "- UDP-N-acetylmuramate dehydrogenase, encontrada en [Rheinheimera salexigens](https://www.ncbi.nlm.nih.gov/Taxonomy/Browser/wwwtax.cgi?id=1628148) es una Protobacteria que luego deriva en la familia de las Gammaproteobacterias.\n",
    "\n",
    "\n",
    "> - Dibuje el \"árbol familiar\" que muestre las relaciones entre los 6 organismos, de acuerdo a la \n",
    "información en Genbank. \n",
    "\n",
    "<img src=\"img/arbol.png\" title=\"Title text\" width=\"70%\" />\n",
    "\n",
    "<!-- \\begin{figure}\n",
    "    \\centering\n",
    "    \\includegraphics[width=0.8\\textwidth]{img/arbol.png}\n",
    "\\end{figure} -->"
   ]
  },
  {
   "cell_type": "markdown",
   "id": "6743c933",
   "metadata": {},
   "source": [
    "## Pregunta 2"
   ]
  },
  {
   "cell_type": "code",
   "execution_count": 2,
   "id": "7ea1a6ad",
   "metadata": {},
   "outputs": [],
   "source": [
    "import random\n",
    "import numpy as np\n",
    "import matplotlib.pyplot as plt\n",
    "%matplotlib inline\n",
    "\n",
    "random.seed(20)\n",
    "\n",
    "bases = ['A', 'C', 'G', 'T', 'B', 'D']\n",
    "mutations = ['insert', 'delete', 'replace']"
   ]
  },
  {
   "cell_type": "code",
   "execution_count": 86,
   "id": "ec4552e8",
   "metadata": {},
   "outputs": [],
   "source": [
    "# Función que genera una sequencia aleatoria de largo n\n",
    "def generateRandomSequence(bases, n = 200):\n",
    "    sequence = []\n",
    "    for i in range(n):\n",
    "        b = random.choice(bases)\n",
    "        sequence.append(b)\n",
    "        \n",
    "    return sequence\n",
    "\n",
    "# Función que realiza una mutación aleatoria a la secuencia\n",
    "def randomMutation(sequence, bases, mutations):\n",
    "    # Choose random mutation\n",
    "    m = random.choice(mutations)\n",
    "    position = random.randint(0, len(sequence)-1)\n",
    "    aux_sequence = sequence.copy()\n",
    "    if m == 'insert':\n",
    "        b = random.choice(bases)\n",
    "        aux_sequence = []\n",
    "        j = 0\n",
    "        for i in range(len(sequence) + 1):\n",
    "            if i == position:\n",
    "                aux_sequence.append(b)\n",
    "            else:\n",
    "                aux_sequence.append(sequence[j])\n",
    "                j += 1\n",
    "            \n",
    "    elif m == 'delete':\n",
    "        del aux_sequence[position]\n",
    "        \n",
    "    elif m == 'replace':\n",
    "        eq_flag = True\n",
    "        b = ''\n",
    "        while eq_flag:\n",
    "            b = random.choice(bases)\n",
    "            if b != aux_sequence[position]:\n",
    "                eq_flag = False\n",
    "        \n",
    "        aux_sequence[position] = b\n",
    "            \n",
    "    return aux_sequence\n",
    "    \n",
    "'''\n",
    "The distance reflects the total number of single-character \n",
    "edits required to transform one word into another.\n",
    "'''    \n",
    "def levenshteinDistance(sequence_a, sequence_b):\n",
    "    distances = np.zeros((len(sequence_a) + 1, len(sequence_b) + 1))\n",
    "    \n",
    "    for i in range(len(sequence_a) + 1):\n",
    "        distances[i][0] = i\n",
    "    \n",
    "    for j in range(len(sequence_b) + 1):\n",
    "        distances[0][j] = j\n",
    "    \n",
    "    a = 0\n",
    "    b = 0\n",
    "    c = 0\n",
    "    \n",
    "    for i in range(1, len(sequence_a) + 1):\n",
    "        for j in range(1, len(sequence_b) + 1):\n",
    "            if (sequence_a[i-1] == sequence_b[j-1]):\n",
    "                distances[i][j] = distances[i - 1][j - 1]\n",
    "            else:\n",
    "                a = distances[i][j - 1]\n",
    "                b = distances[i - 1][j]\n",
    "                c = distances[i - 1][j - 1]\n",
    "                \n",
    "                if (a <= b and a <= c):\n",
    "                    distances[i][j] = a + 1\n",
    "                elif (b <= a and b <= c):\n",
    "                    distances[i][j] = b + 1\n",
    "                else:\n",
    "                    distances[i][j] = c + 1\n",
    "\n",
    "    return distances[len(sequence_a)][len(sequence_b)]\n"
   ]
  },
  {
   "cell_type": "markdown",
   "id": "b68055a5",
   "metadata": {},
   "source": [
    "La función para calcular distancia Levenshtein se baso de la siguiente fuente: [https://blog.paperspace.com/implementing-levenshtein-distance-word-autocomplete-autocorrect/](https://blog.paperspace.com/implementing-levenshtein-distance-word-autocomplete-autocorrect/).\n",
    "\n",
    ">a) Generar una secuencia, y aplicar $M$ mutaciones; para $M$ entre 0 y 300, grafique la relación entre $M$ y $D$, donde $D$ es la distancia de Levenshtein entre la secuencia final y la secuencia inicial."
   ]
  },
  {
   "cell_type": "code",
   "execution_count": 4,
   "id": "ad427cf5",
   "metadata": {
    "scrolled": true
   },
   "outputs": [
    {
     "data": {
      "image/png": "[encoded data removed]",
      "text/plain": [
       "<Figure size 432x288 with 1 Axes>"
      ]
     },
     "metadata": {
      "needs_background": "light"
     },
     "output_type": "display_data"
    }
   ],
   "source": [
    "M = 300\n",
    "D = []\n",
    "sequence_i = generateRandomSequence(bases)\n",
    "sequence_f = sequence_i.copy()\n",
    "d = levenshteinDistance(sequence_i, sequence_f)\n",
    "D.append(d)\n",
    "for m in range(1, M+1):\n",
    "    sequence_f = randomMutation(sequence_f, bases, mutations)\n",
    "    d = levenshteinDistance(sequence_i, sequence_f)\n",
    "    D.append(d)\n",
    "    \n",
    "plt.plot(range(M+1), D)\n",
    "plt.title('# Mutaciones vs Distancia')\n",
    "plt.xlabel('# Mutaciones')\n",
    "plt.ylabel('Distancia Levenshtein')\n",
    "plt.show()"
   ]
  },
  {
   "cell_type": "markdown",
   "id": "7180e348",
   "metadata": {},
   "source": [
    ">b) Genere una secuencia, clónela, y a cada copia aplíquele $M$ mutaciones (de modo que\n",
    "tendrá dos secuencias crecientemente distintas). Grafique la relación entre $M$ y $D’$, donde $D’$\n",
    "es la distancia entre las dos secuencias que están mutando."
   ]
  },
  {
   "cell_type": "code",
   "execution_count": 5,
   "id": "499f50cf",
   "metadata": {},
   "outputs": [
    {
     "data": {
      "image/png": "[encoded data removed]",
      "text/plain": [
       "<Figure size 432x288 with 1 Axes>"
      ]
     },
     "metadata": {
      "needs_background": "light"
     },
     "output_type": "display_data"
    }
   ],
   "source": [
    "Dp = []\n",
    "# Generate sequences\n",
    "sequence_1 = generateRandomSequence(bases)\n",
    "sequence_2 = sequence_1.copy()\n",
    "d = levenshteinDistance(sequence_1, sequence_2)\n",
    "Dp.append(d)\n",
    "for m in range(1, M+1):\n",
    "    sequence_1 = randomMutation(sequence_1, bases, mutations)\n",
    "    sequence_2 = randomMutation(sequence_2, bases, mutations)\n",
    "    d = levenshteinDistance(sequence_1, sequence_2)\n",
    "    Dp.append(d)\n",
    "    \n",
    "plt.plot(range(M+1), Dp)\n",
    "plt.title('# Mutaciones vs Distancia')\n",
    "plt.xlabel('# Mutaciones')\n",
    "plt.ylabel('Distancia Levenshtein')\n",
    "plt.show()"
   ]
  },
  {
   "cell_type": "markdown",
   "id": "2fec95bd",
   "metadata": {},
   "source": [
    ">c) Genere $10.000$ pares de secuencias (largo $200$ c/u) y evalúe su distancia de Levenshtein;\n",
    "haga un histograma de la distribución de estos valores, y calcule la media y $\\sigma$."
   ]
  },
  {
   "cell_type": "code",
   "execution_count": 6,
   "id": "fbe8cf67",
   "metadata": {},
   "outputs": [],
   "source": [
    "# Generate 10.000 sequences with 200 bases\n",
    "sequences1 = [generateRandomSequence(bases) for i in range(10000)]\n",
    "sequences2 = [generateRandomSequence(bases) for i in range(10000)]\n",
    "distances = []\n",
    "for i in range(10000):\n",
    "    s1 = sequences1[i]\n",
    "    s2 = sequences2[i]\n",
    "    d = levenshteinDistance(s1, s2)\n",
    "    distances.append(d)"
   ]
  },
  {
   "cell_type": "code",
   "execution_count": 92,
   "id": "2e2bbe35",
   "metadata": {},
   "outputs": [
    {
     "data": {
      "image/png": "[encoded data removed]",
      "text/plain": [
       "<Figure size 432x288 with 1 Axes>"
      ]
     },
     "metadata": {
      "needs_background": "light"
     },
     "output_type": "display_data"
    },
    {
     "name": "stdout",
     "output_type": "stream",
     "text": [
      "Promedio:  130.4721\n",
      "Desviacion estandar:  3.3291635470478615\n"
     ]
    }
   ],
   "source": [
    "import statistics\n",
    "\n",
    "avg = sum(distances)/len(distances)\n",
    "std = statistics.stdev(distances)\n",
    "\n",
    "plt.hist(distances)\n",
    "plt.title('Histograma de Distancias')\n",
    "plt.xlabel('Distancia Levenshtein')\n",
    "plt.ylabel('f')\n",
    "plt.axvline(avg, color='r', linestyle='dashed', linewidth=2)\n",
    "plt.axvline(avg-std, color='y', linestyle='dashed', linewidth=2)\n",
    "plt.axvline(avg+std, color='y', linestyle='dashed', linewidth=2)\n",
    "plt.legend([\"Promedio\", \"Desviacion estandar\"])\n",
    "plt.show()\n",
    "print('Promedio: ', avg)\n",
    "print('Desviacion estandar: ', std)"
   ]
  },
  {
   "cell_type": "markdown",
   "id": "77855fdc",
   "metadata": {},
   "source": [
    "> d) Considerando (b) y (c), ¿por sobre qué valor de $M$ diría usted que el parentesco entre las\n",
    "secuencias es indetectable (es decir, se entra en la twilight zone)? Tome en cuenta que cuando\n",
    "la distancia ya está dentro de la twilight zone, hace rato que la capacidad de juzgar\n",
    "parentesco ya se perdió.\n",
    "\n",
    "Considerando el gráfico anterior, en promedio la distancia entre dos secuencias aleatorias es de aproximadamente $130$. Por lo tanto, con una desviación estándar de $3,33$ se puede decir que con una distancia de  $133$ estamos seguros de que las secuencias no se parecen (no tienen parentesco), debido que la distancia es mayor que si estas dos secuencias fueran escogidas aleatoriamente y calculado su distancia."
   ]
  }
 ],
 "metadata": {
  "kernelspec": {
   "display_name": "Python 3 (ipykernel)",
   "language": "python",
   "name": "python3"
  },
  "language_info": {
   "codemirror_mode": {
    "name": "ipython",
    "version": 3
   },
   "file_extension": ".py",
   "mimetype": "text/x-python",
   "name": "python",
   "nbconvert_exporter": "python",
   "pygments_lexer": "ipython3",
   "version": "3.9.6"
  }
 },
 "nbformat": 4,
 "nbformat_minor": 5
}
